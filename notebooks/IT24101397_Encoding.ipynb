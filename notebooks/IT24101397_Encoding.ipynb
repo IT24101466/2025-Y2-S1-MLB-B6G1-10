{
 "cells": [
  {
   "cell_type": "code",
   "execution_count": 8,
   "id": "44fa8799-cfa1-4d80-a297-bf46d9b24341",
   "metadata": {},
   "outputs": [],
   "source": [
    "import pandas as pd\n",
    "import matplotlib.pyplot as plt\n",
    "\n",
    "# Define encoding function\n",
    "def encode_categorical(df):\n",
    "    # Display original data types\n",
    "    print(\"Original data types:\\n\", df.dtypes)\n",
    "    \n",
    "    # Encode GENDER and LUNG_CANCER as binary\n",
    "    df[\"GENDER\"] = df[\"GENDER\"].map({\"M\": 0, \"F\": 1})\n",
    "    df[\"LUNG_CANCER\"] = df[\"LUNG_CANCER\"].map({\"YES\": 1, \"NO\": 0})\n",
    "    \n",
    "    # Encode binary columns mapping 1/2 to 0/1 \n",
    "    binary_columns = ['SMOKING', 'YELLOW_FINGERS', 'ANXIETY', 'PEER_PRESSURE', 'CHRONIC DISEASE', \n",
    "                      'FATIGUE ', 'ALLERGY ', 'WHEEZING', 'ALCOHOL CONSUMING', 'COUGHING', \n",
    "                      'SHORTNESS OF BREATH', 'SWALLOWING DIFFICULTY', 'CHEST PAIN']\n",
    "    for col in binary_columns:\n",
    "        df[col] = df[col].replace({1: 0, 2: 1})  \n",
    "    \n",
    "    # Verify updated data types\n",
    "    print(\"Updated data types after encoding:\\n\", df.dtypes)\n",
    "    \n",
    "   #Visualize distribution of LUNG_CANCER by GENDER\n",
    "    contingency_table = pd.crosstab(df['GENDER'], df['LUNG_CANCER'])\n",
    "    contingency_table.plot(kind='bar', stacked=True, color=['#FF9999', '#66B2FF'], figsize=(8, 5))\n",
    "    plt.title('Distribution of Lung Cancer by Gender (Encoded)')\n",
    "    plt.xlabel('Gender (0=M, 1=F)')\n",
    "    plt.ylabel('Count')\n",
    "    plt.legend(title='LUNG_CANCER', labels=['NO (0)', 'YES (1)'])\n",
    "    plt.xticks(rotation=0)\n",
    "    plt.savefig('../results/eda_visualizations/gender_lung_cancer_distribution.png')\n",
    "   \n",
    "    \n",
    "    return df\n",
    "\n",
    "\n"
   ]
  },
  {
   "cell_type": "code",
   "execution_count": 10,
   "id": "79d4ef58-6507-4d7e-8f08-da108a1eb94a",
   "metadata": {},
   "outputs": [
    {
     "name": "stdout",
     "output_type": "stream",
     "text": [
      "Original dataset head:\n",
      "   GENDER  AGE  SMOKING  YELLOW_FINGERS  ANXIETY  PEER_PRESSURE  \\\n",
      "0      M   69        2               1        1              2   \n",
      "1      M   71        2               2        1              1   \n",
      "2      M   61        2               1        1              2   \n",
      "3      M   55        2               2        1              2   \n",
      "4      F   56        2               1        1              1   \n",
      "\n",
      "   CHRONIC DISEASE  FATIGUE   ALLERGY   WHEEZING  ALCOHOL CONSUMING  COUGHING  \\\n",
      "0                1         2         1         1                  2         2   \n",
      "1                2         1         2         2                  1         1   \n",
      "2                2         1         2         2                  1         1   \n",
      "3                1         1         1         2                  2         1   \n",
      "4                1         2         2         2                  2         1   \n",
      "\n",
      "   SHORTNESS OF BREATH  SWALLOWING DIFFICULTY  CHEST PAIN LUNG_CANCER  \n",
      "0                    2                      1           1         YES  \n",
      "1                    2                      2           1         YES  \n",
      "2                    2                      2           2          NO  \n",
      "3                    2                      2           2         YES  \n",
      "4                    2                      2           2         YES  \n"
     ]
    }
   ],
   "source": [
    "# Load the dataset processed during missing data handling\n",
    "df = pd.read_csv('../results/outputs/missing_handled.csv')  \n",
    "print(\"Original dataset head:\\n\", df.head())\n"
   ]
  },
  {
   "cell_type": "code",
   "execution_count": 11,
   "id": "6edb2430-d061-4750-9f46-fe73917199f6",
   "metadata": {},
   "outputs": [
    {
     "name": "stdout",
     "output_type": "stream",
     "text": [
      "Original data types:\n",
      " GENDER                   object\n",
      "AGE                       int64\n",
      "SMOKING                   int64\n",
      "YELLOW_FINGERS            int64\n",
      "ANXIETY                   int64\n",
      "PEER_PRESSURE             int64\n",
      "CHRONIC DISEASE           int64\n",
      "FATIGUE                   int64\n",
      "ALLERGY                   int64\n",
      "WHEEZING                  int64\n",
      "ALCOHOL CONSUMING         int64\n",
      "COUGHING                  int64\n",
      "SHORTNESS OF BREATH       int64\n",
      "SWALLOWING DIFFICULTY     int64\n",
      "CHEST PAIN                int64\n",
      "LUNG_CANCER              object\n",
      "dtype: object\n",
      "Updated data types after encoding:\n",
      " GENDER                   int64\n",
      "AGE                      int64\n",
      "SMOKING                  int64\n",
      "YELLOW_FINGERS           int64\n",
      "ANXIETY                  int64\n",
      "PEER_PRESSURE            int64\n",
      "CHRONIC DISEASE          int64\n",
      "FATIGUE                  int64\n",
      "ALLERGY                  int64\n",
      "WHEEZING                 int64\n",
      "ALCOHOL CONSUMING        int64\n",
      "COUGHING                 int64\n",
      "SHORTNESS OF BREATH      int64\n",
      "SWALLOWING DIFFICULTY    int64\n",
      "CHEST PAIN               int64\n",
      "LUNG_CANCER              int64\n",
      "dtype: object\n",
      "Sample of encoded data:\n",
      "    GENDER  AGE  SMOKING  YELLOW_FINGERS  ANXIETY  PEER_PRESSURE  \\\n",
      "0       0   69        1               0        0              1   \n",
      "1       0   71        1               1        0              0   \n",
      "2       0   61        1               0        0              1   \n",
      "3       0   55        1               1        0              1   \n",
      "4       1   56        1               0        0              0   \n",
      "\n",
      "   CHRONIC DISEASE  FATIGUE   ALLERGY   WHEEZING  ALCOHOL CONSUMING  COUGHING  \\\n",
      "0                0         1         0         0                  1         1   \n",
      "1                1         0         1         1                  0         0   \n",
      "2                1         0         1         1                  0         0   \n",
      "3                0         0         0         1                  1         0   \n",
      "4                0         1         1         1                  1         0   \n",
      "\n",
      "   SHORTNESS OF BREATH  SWALLOWING DIFFICULTY  CHEST PAIN  LUNG_CANCER  \n",
      "0                    1                      0           0            1  \n",
      "1                    1                      1           0            1  \n",
      "2                    1                      1           1            0  \n",
      "3                    1                      1           1            1  \n",
      "4                    1                      1           1            1  \n",
      "Saved to '../results/outputs/encoded_data.csv'\n"
     ]
    },
    {
     "data": {
      "image/png": "[encoded data removed]",
      "text/plain": [
       "<Figure size 800x500 with 1 Axes>"
      ]
     },
     "metadata": {},
     "output_type": "display_data"
    }
   ],
   "source": [
    "df = encode_categorical(df)\n",
    "\n",
    "# Display sample of encoded data\n",
    "print(\"Sample of encoded data:\\n\", df.head())\n",
    "\n"
   ]
  },
  {
   "cell_type": "code",
   "execution_count": 12,
   "id": "07f27f17-d1f5-4641-8dfa-ddb242f28c5f",
   "metadata": {},
   "outputs": [
    {
     "name": "stdout",
     "output_type": "stream",
     "text": [
      "Saved to '../results/outputs/encoded_data.csv'\n"
     ]
    }
   ],
   "source": [
    "# Save the processed dataset for the next step\n",
    "df.to_csv('../results/outputs/encoded_data.csv', index=False)\n",
    "print(\"Saved to '../results/outputs/encoded_data.csv'\")"
   ]
  },
  {
   "cell_type": "code",
   "execution_count": null,
   "id": "87761f7d-ce18-436e-b5a4-5f178e8de091",
   "metadata": {},
   "outputs": [],
   "source": []
  }
 ],
 "metadata": {
  "kernelspec": {
   "display_name": "Python 3 (ipykernel)",
   "language": "python",
   "name": "python3"
  },
  "language_info": {
   "codemirror_mode": {
    "name": "ipython",
    "version": 3
   },
   "file_extension": ".py",
   "mimetype": "text/x-python",
   "name": "python",
   "nbconvert_exporter": "python",
   "pygments_lexer": "ipython3",
   "version": "3.13.2"
  }
 },
 "nbformat": 4,
 "nbformat_minor": 5
}
