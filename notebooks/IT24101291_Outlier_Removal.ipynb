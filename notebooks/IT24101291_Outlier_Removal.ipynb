{
 "cells": [
  {
   "cell_type": "markdown",
   "metadata": {
    "id": "FQM0H4d78CZB"
   },
   "source": [
    "# **Detect Outliers**"
   ]
  },
  {
   "cell_type": "markdown",
   "metadata": {
    "id": "mx4pbLev9O4B"
   },
   "source": [
    "### Import Libraries"
   ]
  },
  {
   "cell_type": "code",
   "execution_count": 2,
   "metadata": {
    "id": "HCmKmaC4D3sP"
   },
   "outputs": [],
   "source": [
    "import pandas as pd\n",
    "import matplotlib.pyplot as plt\n",
    "import seaborn as sns"
   ]
  },
  {
   "cell_type": "markdown",
   "metadata": {
    "id": "v9sNYBOxFtHP"
   },
   "source": [
    "### Load dataset"
   ]
  },
  {
   "cell_type": "code",
   "execution_count": 4,
   "metadata": {
    "colab": {
     "base_uri": "https://localhost:8080/"
    },
    "id": "wVl9ki01FxNj",
    "outputId": "162ffb14-3f63-45d3-b881-7d29ab0ff3de"
   },
   "outputs": [
    {
     "name": "stdout",
     "output_type": "stream",
     "text": [
      "Original dataset head:\n",
      "    GENDER  AGE  SMOKING  YELLOW_FINGERS  ANXIETY  PEER_PRESSURE  \\\n",
      "0       0   69        1               0        0              1   \n",
      "1       0   71        1               1        0              0   \n",
      "2       0   61        1               0        0              1   \n",
      "3       0   55        1               1        0              1   \n",
      "4       1   56        1               0        0              0   \n",
      "\n",
      "   CHRONIC DISEASE  FATIGUE   ALLERGY   WHEEZING  ALCOHOL CONSUMING  COUGHING  \\\n",
      "0                0         1         0         0                  1         1   \n",
      "1                1         0         1         1                  0         0   \n",
      "2                1         0         1         1                  0         0   \n",
      "3                0         0         0         1                  1         0   \n",
      "4                0         1         1         1                  1         0   \n",
      "\n",
      "   SHORTNESS OF BREATH  SWALLOWING DIFFICULTY  CHEST PAIN  LUNG_CANCER  \n",
      "0                    1                      0           0            1  \n",
      "1                    1                      1           0            1  \n",
      "2                    1                      1           1            0  \n",
      "3                    1                      1           1            1  \n",
      "4                    1                      1           1            1  \n"
     ]
    }
   ],
   "source": [
    "df_original = pd.read_csv('../results/outputs/encoded_data.csv')\n",
    "print(\"Original dataset head:\\n\", df_original.head())"
   ]
  },
  {
   "cell_type": "markdown",
   "metadata": {
    "id": "wsv3YKnlD6rc"
   },
   "source": [
    "### Define outlier removal function (IQR method for AGE)"
   ]
  },
  {
   "cell_type": "code",
   "execution_count": 5,
   "metadata": {
    "id": "5EfWoSlfEHEg"
   },
   "outputs": [],
   "source": [
    "def remove_outliers(df):\n",
    "    # Calculate Q1, Q3, and IQR for AGE column\n",
    "    Q1 = df['AGE'].quantile(0.25)\n",
    "    Q3 = df['AGE'].quantile(0.75)\n",
    "    IQR = Q3 - Q1\n",
    "    # Define outlier bounds\n",
    "    lower_bound = Q1 - 1.5 * IQR\n",
    "    upper_bound = Q3 + 1.5 * IQR\n",
    "    # Filter data\n",
    "    df_no_outliers = df[(df['AGE'] >= lower_bound) & (df['AGE'] <= upper_bound)]\n",
    "    return df_no_outliers"
   ]
  },
  {
   "cell_type": "markdown",
   "metadata": {
    "id": "-crcL6FbFSLD"
   },
   "source": [
    "### Report changes"
   ]
  },
  {
   "cell_type": "code",
   "execution_count": 11,
   "metadata": {
    "colab": {
     "base_uri": "https://localhost:8080/"
    },
    "id": "HPNbFnJt69QH",
    "outputId": "f1c447bb-aca0-4c6e-f2a1-7f57825ff452"
   },
   "outputs": [
    {
     "name": "stdout",
     "output_type": "stream",
     "text": [
      "Original shape: (20000, 16), Shape after outlier removal: (19847, 16)\n",
      "Outliers removed: 153 rows\n"
     ]
    }
   ],
   "source": [
    "print(f\"Original shape: {df_original.shape}, Shape after outlier removal: {df_processed.shape}\")\n",
    "print(f\"Outliers removed: {df_original.shape[0] - df_processed.shape[0]} rows\")"
   ]
  },
  {
   "cell_type": "markdown",
   "metadata": {
    "id": "gi8DpsXMF8xr"
   },
   "source": [
    "## Remove outliers"
   ]
  },
  {
   "cell_type": "code",
   "execution_count": 6,
   "metadata": {
    "id": "TM0ZLvp1F_qd"
   },
   "outputs": [],
   "source": [
    "#cleaned dataset\n",
    "df_processed = remove_outliers(df_original)"
   ]
  },
  {
   "cell_type": "markdown",
   "metadata": {
    "id": "arocpLqoGDd7"
   },
   "source": [
    "# **Visualizing boxplots**"
   ]
  },
  {
   "cell_type": "markdown",
   "metadata": {
    "id": "SKLGQB41GLrQ"
   },
   "source": [
    "### Before outlier removal"
   ]
  },
  {
   "cell_type": "code",
   "execution_count": 7,
   "metadata": {
    "colab": {
     "base_uri": "https://localhost:8080/",
     "height": 487
    },
    "id": "7qHX8fNxGQ2h",
    "outputId": "0bd86138-90b9-48bc-c3df-aeb6809eaf19"
   },
   "outputs": [
    {
     "data": {
      "image/png": "[encoded data removed]",
      "text/plain": [
       "<Figure size 600x500 with 1 Axes>"
      ]
     },
     "metadata": {},
     "output_type": "display_data"
    }
   ],
   "source": [
    "plt.figure(figsize=(6, 5))\n",
    "sns.boxplot(x=df_original['AGE'])\n",
    "plt.title('Boxplot of AGE (Before Outlier Removal)')\n",
    "plt.savefig('../results/eda_visualizations/IT24101291/boxplot_before_outlier_removal.png')\n",
    "plt.show()"
   ]
  },
  {
   "cell_type": "markdown",
   "metadata": {
    "id": "anlM1G-2GVm8"
   },
   "source": [
    "## After outlier removal"
   ]
  },
  {
   "cell_type": "code",
   "execution_count": 8,
   "metadata": {
    "colab": {
     "base_uri": "https://localhost:8080/",
     "height": 487
    },
    "id": "CkrhEHT7GcHD",
    "outputId": "6cabf8c6-2bc5-46a6-d8eb-77683b91b8de"
   },
   "outputs": [
    {
     "data": {
      "image/png": "[encoded data removed]",
      "text/plain": [
       "<Figure size 600x500 with 1 Axes>"
      ]
     },
     "metadata": {},
     "output_type": "display_data"
    }
   ],
   "source": [
    "plt.figure(figsize=(6, 5))\n",
    "sns.boxplot(x=df_processed['AGE'])\n",
    "plt.title('Boxplot of AGE (After Outlier Removal)')\n",
    "plt.savefig('../results/eda_visualizations/IT24101291/boxplot_after_outlier_removal.png')\n",
    "plt.show()"
   ]
  },
  {
   "cell_type": "markdown",
   "metadata": {
    "id": "O5Yzbk1rG_OC"
   },
   "source": [
    "## Display sample of processed data"
   ]
  },
  {
   "cell_type": "code",
   "execution_count": 9,
   "metadata": {
    "colab": {
     "base_uri": "https://localhost:8080/"
    },
    "id": "HyrNhwQ3HIGl",
    "outputId": "1224c669-8423-4adc-a414-9714401cf22a"
   },
   "outputs": [
    {
     "name": "stdout",
     "output_type": "stream",
     "text": [
      "Sample of data after outlier removal:\n",
      "    GENDER  AGE  SMOKING  YELLOW_FINGERS  ANXIETY  PEER_PRESSURE  \\\n",
      "0       0   69        1               0        0              1   \n",
      "1       0   71        1               1        0              0   \n",
      "2       0   61        1               0        0              1   \n",
      "3       0   55        1               1        0              1   \n",
      "4       1   56        1               0        0              0   \n",
      "\n",
      "   CHRONIC DISEASE  FATIGUE   ALLERGY   WHEEZING  ALCOHOL CONSUMING  COUGHING  \\\n",
      "0                0         1         0         0                  1         1   \n",
      "1                1         0         1         1                  0         0   \n",
      "2                1         0         1         1                  0         0   \n",
      "3                0         0         0         1                  1         0   \n",
      "4                0         1         1         1                  1         0   \n",
      "\n",
      "   SHORTNESS OF BREATH  SWALLOWING DIFFICULTY  CHEST PAIN  LUNG_CANCER  \n",
      "0                    1                      0           0            1  \n",
      "1                    1                      1           0            1  \n",
      "2                    1                      1           1            0  \n",
      "3                    1                      1           1            1  \n",
      "4                    1                      1           1            1  \n"
     ]
    }
   ],
   "source": [
    "print(\"Sample of data after outlier removal:\\n\", df_processed.head())"
   ]
  },
  {
   "cell_type": "markdown",
   "metadata": {
    "id": "dTv_EnLdHLvt"
   },
   "source": [
    "### Save the processed dataset"
   ]
  },
  {
   "cell_type": "code",
   "execution_count": 10,
   "metadata": {
    "colab": {
     "base_uri": "https://localhost:8080/"
    },
    "id": "8TZoLdHpHPFx",
    "outputId": "de4c6513-d7fa-4b6a-f204-a536e9a0d281"
   },
   "outputs": [
    {
     "name": "stdout",
     "output_type": "stream",
     "text": [
      "Saved processed dataset to '../results/outputs/outlier_removed_data.csv'\n"
     ]
    }
   ],
   "source": [
    "df_processed.to_csv('../results/outputs/outlier_removed_data.csv', index=False)\n",
    "print(\"Saved processed dataset to '../results/outputs/outlier_removed_data.csv'\")"
   ]
  },
  {
   "cell_type": "code",
   "execution_count": null,
   "metadata": {},
   "outputs": [],
   "source": []
  }
 ],
 "metadata": {
  "colab": {
   "provenance": []
  },
  "kernelspec": {
   "display_name": "Python 3 (ipykernel)",
   "language": "python",
   "name": "python3"
  },
  "language_info": {
   "codemirror_mode": {
    "name": "ipython",
    "version": 3
   },
   "file_extension": ".py",
   "mimetype": "text/x-python",
   "name": "python",
   "nbconvert_exporter": "python",
   "pygments_lexer": "ipython3",
   "version": "3.13.2"
  }
 },
 "nbformat": 4,
 "nbformat_minor": 4
}
